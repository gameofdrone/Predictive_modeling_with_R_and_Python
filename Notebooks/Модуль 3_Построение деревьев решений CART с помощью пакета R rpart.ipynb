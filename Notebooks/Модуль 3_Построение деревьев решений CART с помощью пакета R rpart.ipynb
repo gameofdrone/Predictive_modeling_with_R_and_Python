{
 "cells": [
  {
   "cell_type": "markdown",
   "metadata": {},
   "source": [
    "<center>\n",
    "# МОДУЛЬ 3. ПОСТРОЕНИЕ ДЕРЕВЬЕВ РЕШЕНИЙ CART С ПОМОЩЬЮ ПАКЕТА R RPART"
   ]
  },
  {
   "cell_type": "markdown",
   "metadata": {},
   "source": [
    "# Лекция 3.1 Знакомство с методом CART"
   ]
  },
  {
   "cell_type": "markdown",
   "metadata": {},
   "source": [
    "## 3.1.1 Описание алгоритма"
   ]
  },
  {
   "cell_type": "markdown",
   "metadata": {},
   "source": [
    "## 3.1.2 Неоднородность"
   ]
  },
  {
   "cell_type": "markdown",
   "metadata": {},
   "source": [
    "## 3.1.3 Метод отсечения ветвей на основе меры стоимости-сложности с перекрестной проверкой"
   ]
  },
  {
   "cell_type": "markdown",
   "metadata": {},
   "source": [
    "## 3.1.4 Обработка пропущенных значений"
   ]
  },
  {
   "cell_type": "markdown",
   "metadata": {},
   "source": [
    "## 3.1.5 Иллюстрация работы метода CART на конкретных примерах"
   ]
  },
  {
   "cell_type": "markdown",
   "metadata": {},
   "source": [
    "### 3.1.5.1 Дерево классификации"
   ]
  },
  {
   "cell_type": "markdown",
   "metadata": {},
   "source": [
    "### 3.1.5.2 Особенности реализации дерева классификации CART в пакете R rpart"
   ]
  },
  {
   "cell_type": "code",
   "execution_count": 1,
   "metadata": {},
   "outputs": [
    {
     "data": {
      "text/plain": [
       "n= 5 \n",
       "\n",
       "node), split, n, loss, yval, (yprob)\n",
       "      * denotes terminal node\n",
       "\n",
       "1) root 5 2 Да (0.6000000 0.4000000)  \n",
       "  2) age>=68.5 2 0 Да (1.0000000 0.0000000) *\n",
       "  3) age< 68.5 3 1 Нет (0.3333333 0.6666667)  \n",
       "    6) age< 64.5 1 0 Да (1.0000000 0.0000000) *\n",
       "    7) age>=64.5 2 0 Нет (0.0000000 1.0000000) *"
      ]
     },
     "metadata": {},
     "output_type": "display_data"
    }
   ],
   "source": [
    "# загружаем данные\n",
    "data <- read.csv2(\"C:/Trees/CART_classification.csv\")\n",
    "\n",
    "# устанавливаем пакет rpart\n",
    "# install.packages(\"rpart\")\n",
    "\n",
    "# загружаем пакет rpart\n",
    "library(rpart)\n",
    "\n",
    "# строим модель дерева классификации CART\n",
    "set.seed(42)\n",
    "model<-rpart(default~., method='class', data, \n",
    "             control=rpart.control(minsplit = 1, minbucket = 1, cp = 0.01))\n",
    "\n",
    "# выводим краткую информацию\n",
    "# о модели CART\n",
    "model"
   ]
  },
  {
   "cell_type": "markdown",
   "metadata": {},
   "source": [
    "### 3.1.5.3 Дерево регрессии"
   ]
  },
  {
   "cell_type": "markdown",
   "metadata": {},
   "source": [
    "### 3.1.5.4 Особенности реализации дерева регрессии CART в пакете R rpart"
   ]
  },
  {
   "cell_type": "code",
   "execution_count": 2,
   "metadata": {},
   "outputs": [
    {
     "name": "stdout",
     "output_type": "stream",
     "text": [
      "'data.frame':\t5 obs. of  3 variables:\n",
      " $ age                : int  70 64 69 68 65\n",
      " $ gender             : Factor w/ 2 levels \"Женский\",\"Мужской\": 2 2 1 2 1\n",
      " $ days_of_delinquency: int  20 23 12 9 15\n"
     ]
    },
    {
     "data": {
      "text/plain": [
       "n= 5 \n",
       "\n",
       "node), split, n, deviance, yval\n",
       "      * denotes terminal node\n",
       "\n",
       " 1) root 5 130.8 15.8  \n",
       "   2) age>=64.5 4  66.0 14.0  \n",
       "     4) age< 69.5 3  18.0 12.0  \n",
       "       8) age>=66.5 2   4.5 10.5  \n",
       "        16) age< 68.5 1   0.0  9.0 *\n",
       "        17) age>=68.5 1   0.0 12.0 *\n",
       "       9) age< 66.5 1   0.0 15.0 *\n",
       "     5) age>=69.5 1   0.0 20.0 *\n",
       "   3) age< 64.5 1   0.0 23.0 *"
      ]
     },
     "metadata": {},
     "output_type": "display_data"
    }
   ],
   "source": [
    "# загружаем данные\n",
    "data <- read.csv2(\"C:/Trees/CART_regression.csv\")\n",
    "str(data)\n",
    "\n",
    "# строим модель дерева регрессии CART\n",
    "set.seed(42)\n",
    "model<-rpart(days_of_delinquency~., method='anova', data, \n",
    "             control=rpart.control(minsplit = 1, minbucket = 1, cp = 0.01))\n",
    "\n",
    "# выводим краткую информацию\n",
    "# о модели регрессии CART\n",
    "model"
   ]
  },
  {
   "cell_type": "markdown",
   "metadata": {},
   "source": [
    "# Лекция 3.2 Построение и интерпретация дерева классификации CART"
   ]
  },
  {
   "cell_type": "markdown",
   "metadata": {},
   "source": [
    "## 3.2.1 Подготовка данных"
   ]
  },
  {
   "cell_type": "code",
   "execution_count": 3,
   "metadata": {
    "collapsed": true
   },
   "outputs": [],
   "source": [
    "# загружаем данные\n",
    "data <- read.csv2(\"C:/Trees/Response.csv\")"
   ]
  },
  {
   "cell_type": "code",
   "execution_count": 4,
   "metadata": {},
   "outputs": [
    {
     "name": "stdout",
     "output_type": "stream",
     "text": [
      "'data.frame':\t30259 obs. of  14 variables:\n",
      " $ mortgage: int  0 1 1 1 1 0 0 1 1 1 ...\n",
      " $ life_ins: int  0 1 1 1 1 0 0 1 1 1 ...\n",
      " $ cre_card: int  0 0 0 1 0 0 0 0 0 1 ...\n",
      " $ deb_card: int  0 1 1 1 1 1 1 1 1 1 ...\n",
      " $ mob_bank: int  0 1 0 0 0 1 0 0 0 0 ...\n",
      " $ curr_acc: int  0 0 0 1 0 1 0 0 0 1 ...\n",
      " $ internet: int  0 0 0 0 0 0 0 0 0 0 ...\n",
      " $ perloan : int  0 0 0 0 1 0 0 0 0 0 ...\n",
      " $ savings : int  0 0 0 0 0 0 0 0 0 0 ...\n",
      " $ atm_user: int  0 1 0 1 1 0 1 1 1 0 ...\n",
      " $ markpl  : int  0 0 1 1 0 0 0 0 1 0 ...\n",
      " $ age     : int  18 18 18 18 18 18 18 18 18 18 ...\n",
      " $ cus_leng: int  1 2 2 2 2 2 1 1 3 2 ...\n",
      " $ response: int  0 1 1 1 0 1 1 1 0 1 ...\n"
     ]
    }
   ],
   "source": [
    "# смотрим типы переменных\n",
    "str(data)"
   ]
  },
  {
   "cell_type": "code",
   "execution_count": 5,
   "metadata": {
    "collapsed": true
   },
   "outputs": [],
   "source": [
    "# преобразовываем переменные в факторы, за исключением \n",
    "# переменных с индексами 12 и 13\n",
    "data[, -c(12:13)] <- lapply(data[, -c(12:13)], factor)"
   ]
  },
  {
   "cell_type": "code",
   "execution_count": 6,
   "metadata": {},
   "outputs": [
    {
     "name": "stdout",
     "output_type": "stream",
     "text": [
      "'data.frame':\t30259 obs. of  14 variables:\n",
      " $ mortgage: Factor w/ 2 levels \"0\",\"1\": 1 2 2 2 2 1 1 2 2 2 ...\n",
      " $ life_ins: Factor w/ 2 levels \"0\",\"1\": 1 2 2 2 2 1 1 2 2 2 ...\n",
      " $ cre_card: Factor w/ 2 levels \"0\",\"1\": 1 1 1 2 1 1 1 1 1 2 ...\n",
      " $ deb_card: Factor w/ 2 levels \"0\",\"1\": 1 2 2 2 2 2 2 2 2 2 ...\n",
      " $ mob_bank: Factor w/ 2 levels \"0\",\"1\": 1 2 1 1 1 2 1 1 1 1 ...\n",
      " $ curr_acc: Factor w/ 2 levels \"0\",\"1\": 1 1 1 2 1 2 1 1 1 2 ...\n",
      " $ internet: Factor w/ 2 levels \"0\",\"1\": 1 1 1 1 1 1 1 1 1 1 ...\n",
      " $ perloan : Factor w/ 2 levels \"0\",\"1\": 1 1 1 1 2 1 1 1 1 1 ...\n",
      " $ savings : Factor w/ 2 levels \"0\",\"1\": 1 1 1 1 1 1 1 1 1 1 ...\n",
      " $ atm_user: Factor w/ 2 levels \"0\",\"1\": 1 2 1 2 2 1 2 2 2 1 ...\n",
      " $ markpl  : Factor w/ 2 levels \"0\",\"1\": 1 1 2 2 1 1 1 1 2 1 ...\n",
      " $ age     : int  18 18 18 18 18 18 18 18 18 18 ...\n",
      " $ cus_leng: int  1 2 2 2 2 2 1 1 3 2 ...\n",
      " $ response: Factor w/ 2 levels \"0\",\"1\": 1 2 2 2 1 2 2 2 1 2 ...\n"
     ]
    }
   ],
   "source": [
    "str(data)"
   ]
  },
  {
   "cell_type": "code",
   "execution_count": 7,
   "metadata": {
    "collapsed": true
   },
   "outputs": [],
   "source": [
    "# задаем стартовое значение генератора случайных чисел, чтобы\n",
    "# каждый раз получать одно и то же разбиение\n",
    "# на обучающую и контрольную выборки \n",
    "set.seed(100)\n",
    "\n",
    "# разбиваем набор на обучающую и контрольную выборки\n",
    "ind <- sample(2,nrow(data),replace=TRUE,prob=c(0.7,0.3))\n",
    "train <- data[ind==1,]\n",
    "valid <- data[ind==2,]"
   ]
  },
  {
   "cell_type": "code",
   "execution_count": 8,
   "metadata": {},
   "outputs": [
    {
     "name": "stdout",
     "output_type": "stream",
     "text": [
      "mortgage life_ins cre_card deb_card mob_bank curr_acc internet  perloan \n",
      "       0        0        0        0        0        0        0        0 \n",
      " savings atm_user   markpl      age cus_leng response \n",
      "       0        0        0        0        0        0 \n"
     ]
    }
   ],
   "source": [
    "# проверяем наличие пропусков в обучающей выборке\n",
    "print(sapply(train, function(x) sum(is.na(x))))"
   ]
  },
  {
   "cell_type": "code",
   "execution_count": 9,
   "metadata": {},
   "outputs": [
    {
     "name": "stdout",
     "output_type": "stream",
     "text": [
      "mortgage life_ins cre_card deb_card mob_bank curr_acc internet  perloan \n",
      "       0        0        0        0        0        0        0        0 \n",
      " savings atm_user   markpl      age cus_leng response \n",
      "       0        0        0        0        0        0 \n"
     ]
    }
   ],
   "source": [
    "# проверяем наличие пропусков в контрольной выборке\n",
    "print(sapply(valid, function(x) sum(is.na(x))))"
   ]
  },
  {
   "cell_type": "markdown",
   "metadata": {},
   "source": [
    "## 3.2.2 Построение и интерпретация модели классификации"
   ]
  },
  {
   "cell_type": "code",
   "execution_count": 10,
   "metadata": {
    "collapsed": true
   },
   "outputs": [],
   "source": [
    "set.seed(42)\n",
    "# строим модель классификации, уменьшив пороговое \n",
    "# значение штрафа за сложность cp\n",
    "model<-rpart(response~., method='class', control=rpart.control(cp=0.001), \n",
    "             data=train)"
   ]
  },
  {
   "cell_type": "code",
   "execution_count": 11,
   "metadata": {},
   "outputs": [
    {
     "name": "stdout",
     "output_type": "stream",
     "text": [
      "\n",
      "Classification tree:\n",
      "rpart(formula = response ~ ., data = train, method = \"class\", \n",
      "    control = rpart.control(cp = 0.001))\n",
      "\n",
      "Variables actually used in tree construction:\n",
      "[1] age      atm_user cre_card curr_acc cus_leng markpl   mob_bank\n",
      "\n",
      "Root node error: 9229/21313 = 0.43302\n",
      "\n",
      "n= 21313 \n",
      "\n",
      "          CP nsplit rel error  xerror      xstd\n",
      "1  0.3634197      0   1.00000 1.00000 0.0078380\n",
      "2  0.0716221      1   0.63658 0.63658 0.0070684\n",
      "3  0.0393325      3   0.49334 0.49334 0.0064835\n",
      "4  0.0167949      4   0.45400 0.45400 0.0062867\n",
      "5  0.0117022      5   0.43721 0.43721 0.0061971\n",
      "6  0.0018420      6   0.42551 0.42551 0.0061327\n",
      "7  0.0013002      7   0.42366 0.42670 0.0061394\n",
      "8  0.0012461      8   0.42236 0.42540 0.0061321\n",
      "9  0.0010835     10   0.41987 0.42551 0.0061327\n",
      "10 0.0010000     11   0.41879 0.42616 0.0061363\n"
     ]
    }
   ],
   "source": [
    "# выводим информацию о качестве модели\n",
    "printcp(model)"
   ]
  },
  {
   "cell_type": "code",
   "execution_count": 12,
   "metadata": {},
   "outputs": [
    {
     "name": "stdout",
     "output_type": "stream",
     "text": [
      "Call:\n",
      "rpart(formula = response ~ ., data = train, method = \"class\", \n",
      "    control = rpart.control(cp = 0.001))\n",
      "  n= 21313 \n",
      "\n",
      "            CP nsplit rel error    xerror        xstd\n",
      "1  0.363419655      0 1.0000000 1.0000000 0.007838009\n",
      "2  0.071622061      1 0.6365803 0.6365803 0.007068423\n",
      "3  0.039332539      3 0.4933362 0.4933362 0.006483491\n",
      "4  0.016794886      4 0.4540037 0.4540037 0.006286660\n",
      "5  0.011702243      5 0.4372088 0.4372088 0.006197144\n",
      "6  0.001842020      6 0.4255066 0.4255066 0.006132723\n",
      "7  0.001300249      7 0.4236645 0.4266985 0.006139363\n",
      "8  0.001246072      8 0.4223643 0.4253982 0.006132118\n",
      "9  0.001083541     10 0.4198721 0.4255066 0.006132723\n",
      "10 0.001000000     11 0.4187886 0.4261567 0.006136347\n",
      "\n",
      "Variable importance\n",
      "cus_leng      age atm_user  savings curr_acc cre_card   markpl mortgage \n",
      "      61       25        6        2        1        1        1        1 \n",
      "internet \n",
      "       1 \n",
      "\n",
      "Node number 1: 21313 observations,    complexity param=0.3634197\n",
      "  predicted class=0  expected loss=0.4330221  P(node) =1\n",
      "    class counts: 12084  9229\n",
      "   probabilities: 0.567 0.433 \n",
      "  left son=2 (6567 obs) right son=3 (14746 obs)\n",
      "  Primary splits:\n",
      "      cus_leng < 2.5  to the right, improve=3125.472, (0 missing)\n",
      "      atm_user splits as  RL,       improve=1961.381, (0 missing)\n",
      "      age      < 44.5 to the right, improve=1914.992, (0 missing)\n",
      "      cre_card splits as  RL,       improve=1533.317, (0 missing)\n",
      "      markpl   splits as  RL,       improve=1509.031, (0 missing)\n",
      "  Surrogate splits:\n",
      "      age < 53.5 to the right, agree=0.817, adj=0.405, (0 split)\n",
      "\n",
      "Node number 2: 6567 observations\n",
      "  predicted class=0  expected loss=0.0272575  P(node) =0.3081218\n",
      "    class counts:  6388   179\n",
      "   probabilities: 0.973 0.027 \n",
      "\n",
      "Node number 3: 14746 observations,    complexity param=0.07162206\n",
      "  predicted class=1  expected loss=0.3862742  P(node) =0.6918782\n",
      "    class counts:  5696  9050\n",
      "   probabilities: 0.386 0.614 \n",
      "  left son=6 (10670 obs) right son=7 (4076 obs)\n",
      "  Primary splits:\n",
      "      cus_leng < 1.5  to the right, improve=868.1191, (0 missing)\n",
      "      age      < 44.5 to the right, improve=562.7721, (0 missing)\n",
      "      atm_user splits as  RL,       improve=518.9053, (0 missing)\n",
      "      curr_acc splits as  RL,       improve=480.0109, (0 missing)\n",
      "      markpl   splits as  RL,       improve=447.7176, (0 missing)\n",
      "\n",
      "Node number 6: 10670 observations,    complexity param=0.07162206\n",
      "  predicted class=1  expected loss=0.4923149  P(node) =0.5006334\n",
      "    class counts:  5253  5417\n",
      "   probabilities: 0.492 0.508 \n",
      "  left son=12 (5234 obs) right son=13 (5436 obs)\n",
      "  Primary splits:\n",
      "      atm_user splits as  RL,       improve=368.8031, (0 missing)\n",
      "      age      < 44.5 to the right, improve=329.2692, (0 missing)\n",
      "      curr_acc splits as  RL,       improve=255.8438, (0 missing)\n",
      "      cre_card splits as  RL,       improve=174.0091, (0 missing)\n",
      "      markpl   splits as  RL,       improve=146.7614, (0 missing)\n",
      "  Surrogate splits:\n",
      "      savings  splits as  RL, agree=0.632, adj=0.251, (0 split)\n",
      "      mortgage splits as  RL, agree=0.598, adj=0.181, (0 split)\n",
      "      internet splits as  RL, agree=0.594, adj=0.172, (0 split)\n",
      "      markpl   splits as  RL, agree=0.546, adj=0.074, (0 split)\n",
      "      cre_card splits as  RL, agree=0.540, adj=0.063, (0 split)\n",
      "\n",
      "Node number 7: 4076 observations\n",
      "  predicted class=1  expected loss=0.108685  P(node) =0.1912448\n",
      "    class counts:   443  3633\n",
      "   probabilities: 0.109 0.891 \n",
      "\n",
      "Node number 12: 5234 observations,    complexity param=0.01679489\n",
      "  predicted class=0  expected loss=0.3737104  P(node) =0.2455778\n",
      "    class counts:  3278  1956\n",
      "   probabilities: 0.626 0.374 \n",
      "  left son=24 (4423 obs) right son=25 (811 obs)\n",
      "  Primary splits:\n",
      "      curr_acc splits as  RL,       improve=94.46897, (0 missing)\n",
      "      markpl   splits as  RL,       improve=87.75213, (0 missing)\n",
      "      age      < 39.5 to the right, improve=56.27448, (0 missing)\n",
      "      cre_card splits as  RL,       improve=49.00717, (0 missing)\n",
      "      life_ins splits as  RL,       improve=40.68239, (0 missing)\n",
      "  Surrogate splits:\n",
      "      age < 18.5 to the right, agree=0.845, adj=0.002, (0 split)\n",
      "\n",
      "Node number 13: 5436 observations,    complexity param=0.03933254\n",
      "  predicted class=1  expected loss=0.3633186  P(node) =0.2550556\n",
      "    class counts:  1975  3461\n",
      "   probabilities: 0.363 0.637 \n",
      "  left son=26 (2163 obs) right son=27 (3273 obs)\n",
      "  Primary splits:\n",
      "      age      < 44.5 to the right, improve=349.62450, (0 missing)\n",
      "      curr_acc splits as  RL,       improve=112.67560, (0 missing)\n",
      "      cre_card splits as  RL,       improve= 84.78291, (0 missing)\n",
      "      mob_bank splits as  LR,       improve= 28.32525, (0 missing)\n",
      "      markpl   splits as  RL,       improve= 27.34899, (0 missing)\n",
      "  Surrogate splits:\n",
      "      savings splits as  RL, agree=0.612, adj=0.026, (0 split)\n",
      "\n",
      "Node number 24: 4423 observations,    complexity param=0.001246072\n",
      "  predicted class=0  expected loss=0.3330319  P(node) =0.2075259\n",
      "    class counts:  2950  1473\n",
      "   probabilities: 0.667 0.333 \n",
      "  left son=48 (3380 obs) right son=49 (1043 obs)\n",
      "  Primary splits:\n",
      "      markpl   splits as  RL, improve=33.55987, (0 missing)\n",
      "      cre_card splits as  RL, improve=32.68099, (0 missing)\n",
      "      mob_bank splits as  LR, improve=31.77425, (0 missing)\n",
      "      mortgage splits as  RL, improve=21.68095, (0 missing)\n",
      "      life_ins splits as  RL, improve=20.18699, (0 missing)\n",
      "\n",
      "Node number 25: 811 observations,    complexity param=0.00184202\n",
      "  predicted class=1  expected loss=0.404439  P(node) =0.03805189\n",
      "    class counts:   328   483\n",
      "   probabilities: 0.404 0.596 \n",
      "  left son=50 (357 obs) right son=51 (454 obs)\n",
      "  Primary splits:\n",
      "      markpl   splits as  RL,       improve=18.174300, (0 missing)\n",
      "      life_ins splits as  RL,       improve=10.179910, (0 missing)\n",
      "      age      < 41.5 to the right, improve= 8.238279, (0 missing)\n",
      "      cre_card splits as  RL,       improve= 3.095205, (0 missing)\n",
      "      deb_card splits as  LR,       improve= 1.458087, (0 missing)\n",
      "  Surrogate splits:\n",
      "      age      < 27.5 to the left,  agree=0.586, adj=0.059, (0 split)\n",
      "      savings  splits as  RL,       agree=0.568, adj=0.020, (0 split)\n",
      "      deb_card splits as  LR,       agree=0.567, adj=0.017, (0 split)\n",
      "      internet splits as  RL,       agree=0.561, adj=0.003, (0 split)\n",
      "\n",
      "Node number 26: 2163 observations,    complexity param=0.01170224\n",
      "  predicted class=0  expected loss=0.4160888  P(node) =0.1014874\n",
      "    class counts:  1263   900\n",
      "   probabilities: 0.584 0.416 \n",
      "  left son=52 (1439 obs) right son=53 (724 obs)\n",
      "  Primary splits:\n",
      "      cre_card splits as  RL,       improve=54.67712, (0 missing)\n",
      "      age      < 54.5 to the right, improve=29.92518, (0 missing)\n",
      "      life_ins splits as  RL,       improve=27.09946, (0 missing)\n",
      "      markpl   splits as  RL,       improve=27.05302, (0 missing)\n",
      "      curr_acc splits as  RL,       improve=22.25446, (0 missing)\n",
      "  Surrogate splits:\n",
      "      life_ins splits as  RL, agree=0.749, adj=0.251, (0 split)\n",
      "\n",
      "Node number 27: 3273 observations\n",
      "  predicted class=1  expected loss=0.2175374  P(node) =0.1535682\n",
      "    class counts:   712  2561\n",
      "   probabilities: 0.218 0.782 \n",
      "\n",
      "Node number 48: 3380 observations\n",
      "  predicted class=0  expected loss=0.2988166  P(node) =0.1585887\n",
      "    class counts:  2370  1010\n",
      "   probabilities: 0.701 0.299 \n",
      "\n",
      "Node number 49: 1043 observations,    complexity param=0.001246072\n",
      "  predicted class=0  expected loss=0.4439118  P(node) =0.04893727\n",
      "    class counts:   580   463\n",
      "   probabilities: 0.556 0.444 \n",
      "  left son=98 (636 obs) right son=99 (407 obs)\n",
      "  Primary splits:\n",
      "      cre_card splits as  RL, improve=9.496362, (0 missing)\n",
      "      mob_bank splits as  LR, improve=9.164794, (0 missing)\n",
      "      life_ins splits as  RL, improve=3.917352, (0 missing)\n",
      "      mortgage splits as  RL, improve=2.442316, (0 missing)\n",
      "      perloan  splits as  LR, improve=1.584601, (0 missing)\n",
      "  Surrogate splits:\n",
      "      life_ins splits as  RL,       agree=0.670, adj=0.155, (0 split)\n",
      "      mortgage splits as  RL,       agree=0.652, adj=0.108, (0 split)\n",
      "      age      < 26.5 to the right, agree=0.615, adj=0.012, (0 split)\n",
      "\n",
      "Node number 50: 357 observations,    complexity param=0.001300249\n",
      "  predicted class=0  expected loss=0.4761905  P(node) =0.01675034\n",
      "    class counts:   187   170\n",
      "   probabilities: 0.524 0.476 \n",
      "  left son=100 (225 obs) right son=101 (132 obs)\n",
      "  Primary splits:\n",
      "      age      < 29.5 to the right, improve=2.0095820, (0 missing)\n",
      "      savings  splits as  LR,       improve=1.0168070, (0 missing)\n",
      "      mortgage splits as  LR,       improve=0.9226354, (0 missing)\n",
      "      internet splits as  LR,       improve=0.1103896, (0 missing)\n",
      "      life_ins splits as  RL,       improve=0.1046299, (0 missing)\n",
      "\n",
      "Node number 51: 454 observations\n",
      "  predicted class=1  expected loss=0.3105727  P(node) =0.02130155\n",
      "    class counts:   141   313\n",
      "   probabilities: 0.311 0.689 \n",
      "\n",
      "Node number 52: 1439 observations\n",
      "  predicted class=0  expected loss=0.3363447  P(node) =0.06751748\n",
      "    class counts:   955   484\n",
      "   probabilities: 0.664 0.336 \n",
      "\n",
      "Node number 53: 724 observations\n",
      "  predicted class=1  expected loss=0.4254144  P(node) =0.03396988\n",
      "    class counts:   308   416\n",
      "   probabilities: 0.425 0.575 \n",
      "\n",
      "Node number 98: 636 observations,    complexity param=0.001083541\n",
      "  predicted class=0  expected loss=0.3899371  P(node) =0.02984094\n",
      "    class counts:   388   248\n",
      "   probabilities: 0.610 0.390 \n",
      "  left son=196 (524 obs) right son=197 (112 obs)\n",
      "  Primary splits:\n",
      "      mob_bank splits as  LR,       improve=6.5070890, (0 missing)\n",
      "      deb_card splits as  LR,       improve=1.4193620, (0 missing)\n",
      "      perloan  splits as  LR,       improve=1.2905240, (0 missing)\n",
      "      savings  splits as  LR,       improve=1.1218790, (0 missing)\n",
      "      age      < 51.5 to the right, improve=0.8801984, (0 missing)\n",
      "\n",
      "Node number 99: 407 observations\n",
      "  predicted class=1  expected loss=0.4717445  P(node) =0.01909633\n",
      "    class counts:   192   215\n",
      "   probabilities: 0.472 0.528 \n",
      "\n",
      "Node number 100: 225 observations\n",
      "  predicted class=0  expected loss=0.4355556  P(node) =0.01055694\n",
      "    class counts:   127    98\n",
      "   probabilities: 0.564 0.436 \n",
      "\n",
      "Node number 101: 132 observations\n",
      "  predicted class=1  expected loss=0.4545455  P(node) =0.006193403\n",
      "    class counts:    60    72\n",
      "   probabilities: 0.455 0.545 \n",
      "\n",
      "Node number 196: 524 observations\n",
      "  predicted class=0  expected loss=0.3568702  P(node) =0.02458593\n",
      "    class counts:   337   187\n",
      "   probabilities: 0.643 0.357 \n",
      "\n",
      "Node number 197: 112 observations\n",
      "  predicted class=1  expected loss=0.4553571  P(node) =0.005255009\n",
      "    class counts:    51    61\n",
      "   probabilities: 0.455 0.545 \n",
      "\n"
     ]
    }
   ],
   "source": [
    "# выводим подробную информацию о модели\n",
    "summary(model)"
   ]
  },
  {
   "cell_type": "code",
   "execution_count": 13,
   "metadata": {},
   "outputs": [
    {
     "name": "stdout",
     "output_type": "stream",
     "text": [
      "n= 21313 \n",
      "\n",
      "node), split, n, loss, yval, (yprob)\n",
      "      * denotes terminal node\n",
      "\n",
      "  1) root 21313 9229 0 (0.5669779 0.4330221)  \n",
      "    2) cus_leng>=2.5 6567  179 0 (0.9727425 0.0272575) *\n",
      "    3) cus_leng< 2.5 14746 5696 1 (0.3862742 0.6137258)  \n",
      "      6) cus_leng>=1.5 10670 5253 1 (0.4923149 0.5076851)  \n",
      "       12) atm_user=1 5234 1956 0 (0.6262896 0.3737104)  \n",
      "         24) curr_acc=1 4423 1473 0 (0.6669681 0.3330319)  \n",
      "           48) markpl=1 3380 1010 0 (0.7011834 0.2988166) *\n",
      "           49) markpl=0 1043  463 0 (0.5560882 0.4439118)  \n",
      "             98) cre_card=1 636  248 0 (0.6100629 0.3899371)  \n",
      "              196) mob_bank=0 524  187 0 (0.6431298 0.3568702) *\n",
      "              197) mob_bank=1 112   51 1 (0.4553571 0.5446429) *\n",
      "             99) cre_card=0 407  192 1 (0.4717445 0.5282555) *\n",
      "         25) curr_acc=0 811  328 1 (0.4044390 0.5955610)  \n",
      "           50) markpl=1 357  170 0 (0.5238095 0.4761905)  \n",
      "            100) age>=29.5 225   98 0 (0.5644444 0.4355556) *\n",
      "            101) age< 29.5 132   60 1 (0.4545455 0.5454545) *\n",
      "           51) markpl=0 454  141 1 (0.3105727 0.6894273) *\n",
      "       13) atm_user=0 5436 1975 1 (0.3633186 0.6366814)  \n",
      "         26) age>=44.5 2163  900 0 (0.5839112 0.4160888)  \n",
      "           52) cre_card=1 1439  484 0 (0.6636553 0.3363447) *\n",
      "           53) cre_card=0 724  308 1 (0.4254144 0.5745856) *\n",
      "         27) age< 44.5 3273  712 1 (0.2175374 0.7824626) *\n",
      "      7) cus_leng< 1.5 4076  443 1 (0.1086850 0.8913150) *\n"
     ]
    }
   ],
   "source": [
    "# выводим краткую информацию о модели\n",
    "print(model)\n"
   ]
  },
  {
   "cell_type": "code",
   "execution_count": 14,
   "metadata": {},
   "outputs": [
    {
     "name": "stderr",
     "output_type": "stream",
     "text": [
      "Rattle: A free graphical interface for data science with R.\n",
      "Version 5.1.0 Copyright (c) 2006-2017 Togaware Pty Ltd.\n",
      "Type 'rattle()' to shake, rattle, and roll your data.\n"
     ]
    }
   ],
   "source": [
    "# устанавливаем пакет rattle\n",
    "# install.packages(\"rattle\")\n",
    "\n",
    "# загружаем пакет rattle\n",
    "library(rattle)"
   ]
  },
  {
   "cell_type": "code",
   "execution_count": 15,
   "metadata": {},
   "outputs": [
    {
     "name": "stdout",
     "output_type": "stream",
     "text": [
      "\n",
      " Rule number: 7 [response=1 cover=4076 (19%) prob=0.89]\n",
      "   cus_leng< 2.5\n",
      "   cus_leng< 1.5\n",
      "\n",
      " Rule number: 27 [response=1 cover=3273 (15%) prob=0.78]\n",
      "   cus_leng< 2.5\n",
      "   cus_leng>=1.5\n",
      "   atm_user=0\n",
      "   age< 44.5\n",
      "\n",
      " Rule number: 51 [response=1 cover=454 (2%) prob=0.69]\n",
      "   cus_leng< 2.5\n",
      "   cus_leng>=1.5\n",
      "   atm_user=1\n",
      "   curr_acc=0\n",
      "   markpl=0\n",
      "\n",
      " Rule number: 53 [response=1 cover=724 (3%) prob=0.57]\n",
      "   cus_leng< 2.5\n",
      "   cus_leng>=1.5\n",
      "   atm_user=0\n",
      "   age>=44.5\n",
      "   cre_card=0\n",
      "\n",
      " Rule number: 101 [response=1 cover=132 (1%) prob=0.55]\n",
      "   cus_leng< 2.5\n",
      "   cus_leng>=1.5\n",
      "   atm_user=1\n",
      "   curr_acc=0\n",
      "   markpl=1\n",
      "   age< 29.5\n",
      "\n",
      " Rule number: 197 [response=1 cover=112 (1%) prob=0.54]\n",
      "   cus_leng< 2.5\n",
      "   cus_leng>=1.5\n",
      "   atm_user=1\n",
      "   curr_acc=1\n",
      "   markpl=0\n",
      "   cre_card=1\n",
      "   mob_bank=1\n",
      "\n",
      " Rule number: 99 [response=1 cover=407 (2%) prob=0.53]\n",
      "   cus_leng< 2.5\n",
      "   cus_leng>=1.5\n",
      "   atm_user=1\n",
      "   curr_acc=1\n",
      "   markpl=0\n",
      "   cre_card=0\n",
      "\n",
      " Rule number: 100 [response=0 cover=225 (1%) prob=0.44]\n",
      "   cus_leng< 2.5\n",
      "   cus_leng>=1.5\n",
      "   atm_user=1\n",
      "   curr_acc=0\n",
      "   markpl=1\n",
      "   age>=29.5\n",
      "\n",
      " Rule number: 196 [response=0 cover=524 (2%) prob=0.36]\n",
      "   cus_leng< 2.5\n",
      "   cus_leng>=1.5\n",
      "   atm_user=1\n",
      "   curr_acc=1\n",
      "   markpl=0\n",
      "   cre_card=1\n",
      "   mob_bank=0\n",
      "\n",
      " Rule number: 52 [response=0 cover=1439 (7%) prob=0.34]\n",
      "   cus_leng< 2.5\n",
      "   cus_leng>=1.5\n",
      "   atm_user=0\n",
      "   age>=44.5\n",
      "   cre_card=1\n",
      "\n",
      " Rule number: 48 [response=0 cover=3380 (16%) prob=0.30]\n",
      "   cus_leng< 2.5\n",
      "   cus_leng>=1.5\n",
      "   atm_user=1\n",
      "   curr_acc=1\n",
      "   markpl=1\n",
      "\n",
      " Rule number: 2 [response=0 cover=6567 (31%) prob=0.03]\n",
      "   cus_leng>=2.5\n",
      "\n"
     ]
    }
   ],
   "source": [
    "# выводим непосредственно\n",
    "# правила разбиения\n",
    "asRules(model)"
   ]
  },
  {
   "cell_type": "code",
   "execution_count": 16,
   "metadata": {},
   "outputs": [
    {
     "data": {
      "text/html": [
       "<dl class=dl-horizontal>\n",
       "\t<dt>cus_leng</dt>\n",
       "\t\t<dd>3993.59153114279</dd>\n",
       "\t<dt>age</dt>\n",
       "\t\t<dd>1619.04289368475</dd>\n",
       "\t<dt>atm_user</dt>\n",
       "\t\t<dd>368.803089751821</dd>\n",
       "\t<dt>savings</dt>\n",
       "\t\t<dd>101.855519578079</dd>\n",
       "\t<dt>curr_acc</dt>\n",
       "\t\t<dd>94.4689653298442</dd>\n",
       "\t<dt>cre_card</dt>\n",
       "\t\t<dd>87.4262605062792</dd>\n",
       "\t<dt>markpl</dt>\n",
       "\t\t<dd>79.1442601079553</dd>\n",
       "\t<dt>mortgage</dt>\n",
       "\t\t<dd>67.7550490845964</dd>\n",
       "\t<dt>internet</dt>\n",
       "\t\t<dd>63.3971020744667</dd>\n",
       "\t<dt>life_ins</dt>\n",
       "\t\t<dd>15.2147548376634</dd>\n",
       "\t<dt>mob_bank</dt>\n",
       "\t\t<dd>6.50708918883697</dd>\n",
       "\t<dt>deb_card</dt>\n",
       "\t\t<dd>0.305450406043338</dd>\n",
       "</dl>\n"
      ],
      "text/latex": [
       "\\begin{description*}\n",
       "\\item[cus\\textbackslash{}\\_leng] 3993.59153114279\n",
       "\\item[age] 1619.04289368475\n",
       "\\item[atm\\textbackslash{}\\_user] 368.803089751821\n",
       "\\item[savings] 101.855519578079\n",
       "\\item[curr\\textbackslash{}\\_acc] 94.4689653298442\n",
       "\\item[cre\\textbackslash{}\\_card] 87.4262605062792\n",
       "\\item[markpl] 79.1442601079553\n",
       "\\item[mortgage] 67.7550490845964\n",
       "\\item[internet] 63.3971020744667\n",
       "\\item[life\\textbackslash{}\\_ins] 15.2147548376634\n",
       "\\item[mob\\textbackslash{}\\_bank] 6.50708918883697\n",
       "\\item[deb\\textbackslash{}\\_card] 0.305450406043338\n",
       "\\end{description*}\n"
      ],
      "text/markdown": [
       "cus_leng\n",
       ":   3993.59153114279age\n",
       ":   1619.04289368475atm_user\n",
       ":   368.803089751821savings\n",
       ":   101.855519578079curr_acc\n",
       ":   94.4689653298442cre_card\n",
       ":   87.4262605062792markpl\n",
       ":   79.1442601079553mortgage\n",
       ":   67.7550490845964internet\n",
       ":   63.3971020744667life_ins\n",
       ":   15.2147548376634mob_bank\n",
       ":   6.50708918883697deb_card\n",
       ":   0.305450406043338\n",
       "\n"
      ],
      "text/plain": [
       "    cus_leng          age     atm_user      savings     curr_acc     cre_card \n",
       "3993.5915311 1619.0428937  368.8030898  101.8555196   94.4689653   87.4262605 \n",
       "      markpl     mortgage     internet     life_ins     mob_bank     deb_card \n",
       "  79.1442601   67.7550491   63.3971021   15.2147548    6.5070892    0.3054504 "
      ]
     },
     "metadata": {},
     "output_type": "display_data"
    }
   ],
   "source": [
    "# вычисляем важности переменных\n",
    "model$variable.importance"
   ]
  },
  {
   "cell_type": "markdown",
   "metadata": {},
   "source": [
    "## 3.2.3 Работа с диаграммой дерева"
   ]
  },
  {
   "cell_type": "code",
   "execution_count": 17,
   "metadata": {},
   "outputs": [
    {
     "name": "stderr",
     "output_type": "stream",
     "text": [
      "Warning message:\n",
      "\"package 'rpart.plot' was built under R version 3.4.3\""
     ]
    }
   ],
   "source": [
    "# устанавливаем пакет rpart.plot\n",
    "# install.packages(\"rpart.plot\")\n",
    "\n",
    "# загружаем пакеты rpart.plot\n",
    "library(rpart.plot)"
   ]
  },
  {
   "cell_type": "code",
   "execution_count": 18,
   "metadata": {},
   "outputs": [
    {
     "data": {
      "image/png": "[encoded data removed]",
      "text/plain": [
       "Plot with title \"\""
      ]
     },
     "metadata": {},
     "output_type": "display_data"
    }
   ],
   "source": [
    "# строим диаграмму дерева, branch задает \n",
    "# форму ветвей, space и yspace \n",
    "# настраивают горизонтальные и вертикальные \n",
    "# размеры боксов, отображающих узлы,\n",
    "# split.cex настраивает размер \n",
    "# шрифта для определений узлов,\n",
    "# nn.cex задает размер номеров узлов,\n",
    "# nn.font задает тип шрифта \n",
    "# для номеров узлов, \n",
    "# split.prefix позволяет вставить \n",
    "# текст перед определением узла,\n",
    "# split.suffix позволяет вставить \n",
    "# текст после определения узла\n",
    "fancyRpartPlot(model,\n",
    "               branch=0.5,\n",
    "               space=0.001, yspace=0.001,\n",
    "               split.cex=1.5,\n",
    "               nn.cex=1, nn.font=4,\n",
    "               split.prefix=\"is \", \n",
    "               split.suffix=\"?\")"
   ]
  },
  {
   "cell_type": "code",
   "execution_count": 19,
   "metadata": {},
   "outputs": [
    {
     "data": {
      "image/png": "[encoded data removed]",
      "text/plain": [
       "Plot with title \"\""
      ]
     },
     "metadata": {},
     "output_type": "display_data"
    }
   ],
   "source": [
    "# строим диаграмму дерева снизу вверх,\n",
    "# использовав значение yflip=TRUE\n",
    "fancyRpartPlot(model,\n",
    "               branch=0.5,\n",
    "               space=0.001, yspace=0.001,\n",
    "               split.cex=1.5,\n",
    "               nn.cex=1, nn.font=4,\n",
    "               split.prefix=\"is \", \n",
    "               split.suffix=\"?\", yflip=TRUE)"
   ]
  },
  {
   "cell_type": "code",
   "execution_count": 20,
   "metadata": {},
   "outputs": [
    {
     "data": {
      "image/png": "[encoded data removed]",
      "text/plain": [
       "Plot with title \"\""
      ]
     },
     "metadata": {},
     "output_type": "display_data"
    }
   ],
   "source": [
    "# строим диаграмму дерева, поменяв определения\n",
    "# узлов на противоположные с помощью\n",
    "# значения xflip=TRUE\n",
    "fancyRpartPlot(model,\n",
    "               branch=0.5,\n",
    "               space=0.001, yspace=0.001,\n",
    "               split.cex=1.5,\n",
    "               nn.cex=1, nn.font=4,\n",
    "               split.prefix=\"is \", \n",
    "               split.suffix=\"?\", xflip=TRUE)"
   ]
  },
  {
   "cell_type": "code",
   "execution_count": 21,
   "metadata": {},
   "outputs": [
    {
     "data": {
      "image/png": "[encoded data removed]",
      "text/plain": [
       "Plot with title \"\""
      ]
     },
     "metadata": {},
     "output_type": "display_data"
    }
   ],
   "source": [
    "# строим диаграмму дерева, меняя подписи\n",
    "# yes и no на русские да и нет\n",
    "fancyRpartPlot(model,\n",
    "               branch=0.5,\n",
    "               space=0.001, yspace=0.001,\n",
    "               split.cex=1.5,\n",
    "               nn.cex=1, nn.font=4, split.prefix=\"is \",\n",
    "               split.suffix=\"?\", yes.text=\"Да\", no.text=\"Нет\")"
   ]
  },
  {
   "cell_type": "code",
   "execution_count": 22,
   "metadata": {},
   "outputs": [
    {
     "data": {
      "image/png": "[encoded data removed]",
      "text/plain": [
       "Plot with title \"\""
      ]
     },
     "metadata": {},
     "output_type": "display_data"
    }
   ],
   "source": [
    "# строим диаграмму дерева, теперь в левую\n",
    "# часть разбиения будем записывать узел,\n",
    "# соответствующий отрицательному ответу\n",
    "# на вопрос\n",
    "fancyRpartPlot(model,\n",
    "               branch=0.5,\n",
    "               space=0.001, yspace=0.001,\n",
    "               split.cex=1.5,\n",
    "               nn.cex=1, nn.font=4, split.prefix=\"is \",\n",
    "               split.suffix=\"?\", yes.text=\"Да\", no.text=\"Нет\", left=FALSE)"
   ]
  },
  {
   "cell_type": "code",
   "execution_count": 23,
   "metadata": {},
   "outputs": [
    {
     "name": "stderr",
     "output_type": "stream",
     "text": [
      "Loading required package: grid\n"
     ]
    }
   ],
   "source": [
    "# устанавливаем пакет partykit\n",
    "# install.packages(\"partykit\")\n",
    "\n",
    "# загружаем пакет partykit\n",
    "library(partykit)"
   ]
  },
  {
   "cell_type": "code",
   "execution_count": 24,
   "metadata": {},
   "outputs": [
    {
     "data": {
      "image/png": "[encoded data removed]",
      "text/plain": [
       "plot without title"
      ]
     },
     "metadata": {},
     "output_type": "display_data"
    }
   ],
   "source": [
    "# переводим модель дерева - объект класса \n",
    "# rpart в объект класса party\n",
    "model_party <- as.party(model)\n",
    "\n",
    "# строим дерево party\n",
    "plot(model_party)"
   ]
  },
  {
   "cell_type": "code",
   "execution_count": 25,
   "metadata": {},
   "outputs": [
    {
     "data": {
      "image/png": "[encoded data removed]",
      "text/plain": [
       "plot without title"
      ]
     },
     "metadata": {},
     "output_type": "display_data"
    }
   ],
   "source": [
    "# выводим диаграмму для узла 18\n",
    "model18 <- model_party[18]\n",
    "plot(model18)"
   ]
  },
  {
   "cell_type": "code",
   "execution_count": 26,
   "metadata": {},
   "outputs": [
    {
     "data": {
      "text/html": [
       "<table>\n",
       "<thead><tr><th></th><th scope=col>response</th><th scope=col>mortgage</th><th scope=col>life_ins</th><th scope=col>cre_card</th><th scope=col>deb_card</th><th scope=col>mob_bank</th><th scope=col>curr_acc</th><th scope=col>internet</th><th scope=col>perloan</th><th scope=col>savings</th><th scope=col>atm_user</th><th scope=col>markpl</th><th scope=col>age</th><th scope=col>cus_leng</th><th scope=col>(fitted)</th><th scope=col>(response)</th></tr></thead>\n",
       "<tbody>\n",
       "\t<tr><th scope=row>422</th><td>0 </td><td>1 </td><td>1 </td><td>1 </td><td>1 </td><td>1 </td><td>1 </td><td>0 </td><td>0 </td><td>0 </td><td>1 </td><td>0 </td><td>21</td><td>2 </td><td>11</td><td>0 </td></tr>\n",
       "\t<tr><th scope=row>893</th><td>1 </td><td>0 </td><td>1 </td><td>1 </td><td>1 </td><td>1 </td><td>1 </td><td>0 </td><td>0 </td><td>0 </td><td>1 </td><td>0 </td><td>24</td><td>2 </td><td>11</td><td>1 </td></tr>\n",
       "\t<tr><th scope=row>1342</th><td>1 </td><td>1 </td><td>1 </td><td>1 </td><td>1 </td><td>1 </td><td>1 </td><td>0 </td><td>0 </td><td>1 </td><td>1 </td><td>0 </td><td>27</td><td>2 </td><td>11</td><td>1 </td></tr>\n",
       "\t<tr><th scope=row>2056</th><td>1 </td><td>0 </td><td>1 </td><td>1 </td><td>1 </td><td>1 </td><td>1 </td><td>0 </td><td>0 </td><td>0 </td><td>1 </td><td>0 </td><td>28</td><td>2 </td><td>11</td><td>1 </td></tr>\n",
       "\t<tr><th scope=row>2216</th><td>0 </td><td>0 </td><td>1 </td><td>1 </td><td>0 </td><td>1 </td><td>1 </td><td>0 </td><td>0 </td><td>1 </td><td>1 </td><td>0 </td><td>28</td><td>2 </td><td>11</td><td>0 </td></tr>\n",
       "</tbody>\n",
       "</table>\n"
      ],
      "text/latex": [
       "\\begin{tabular}{r|llllllllllllllll}\n",
       "  & response & mortgage & life\\_ins & cre\\_card & deb\\_card & mob\\_bank & curr\\_acc & internet & perloan & savings & atm\\_user & markpl & age & cus\\_leng & (fitted) & (response)\\\\\n",
       "\\hline\n",
       "\t422 & 0  & 1  & 1  & 1  & 1  & 1  & 1  & 0  & 0  & 0  & 1  & 0  & 21 & 2  & 11 & 0 \\\\\n",
       "\t893 & 1  & 0  & 1  & 1  & 1  & 1  & 1  & 0  & 0  & 0  & 1  & 0  & 24 & 2  & 11 & 1 \\\\\n",
       "\t1342 & 1  & 1  & 1  & 1  & 1  & 1  & 1  & 0  & 0  & 1  & 1  & 0  & 27 & 2  & 11 & 1 \\\\\n",
       "\t2056 & 1  & 0  & 1  & 1  & 1  & 1  & 1  & 0  & 0  & 0  & 1  & 0  & 28 & 2  & 11 & 1 \\\\\n",
       "\t2216 & 0  & 0  & 1  & 1  & 0  & 1  & 1  & 0  & 0  & 1  & 1  & 0  & 28 & 2  & 11 & 0 \\\\\n",
       "\\end{tabular}\n"
      ],
      "text/markdown": [
       "\n",
       "| <!--/--> | response | mortgage | life_ins | cre_card | deb_card | mob_bank | curr_acc | internet | perloan | savings | atm_user | markpl | age | cus_leng | (fitted) | (response) | \n",
       "|---|---|---|---|---|\n",
       "| 422 | 0  | 1  | 1  | 1  | 1  | 1  | 1  | 0  | 0  | 0  | 1  | 0  | 21 | 2  | 11 | 0  | \n",
       "| 893 | 1  | 0  | 1  | 1  | 1  | 1  | 1  | 0  | 0  | 0  | 1  | 0  | 24 | 2  | 11 | 1  | \n",
       "| 1342 | 1  | 1  | 1  | 1  | 1  | 1  | 1  | 0  | 0  | 1  | 1  | 0  | 27 | 2  | 11 | 1  | \n",
       "| 2056 | 1  | 0  | 1  | 1  | 1  | 1  | 1  | 0  | 0  | 0  | 1  | 0  | 28 | 2  | 11 | 1  | \n",
       "| 2216 | 0  | 0  | 1  | 1  | 0  | 1  | 1  | 0  | 0  | 1  | 1  | 0  | 28 | 2  | 11 | 0  | \n",
       "\n",
       "\n"
      ],
      "text/plain": [
       "     response mortgage life_ins cre_card deb_card mob_bank curr_acc internet\n",
       "422  0        1        1        1        1        1        1        0       \n",
       "893  1        0        1        1        1        1        1        0       \n",
       "1342 1        1        1        1        1        1        1        0       \n",
       "2056 1        0        1        1        1        1        1        0       \n",
       "2216 0        0        1        1        0        1        1        0       \n",
       "     perloan savings atm_user markpl age cus_leng (fitted) (response)\n",
       "422  0       0       1        0      21  2        11       0         \n",
       "893  0       0       1        0      24  2        11       1         \n",
       "1342 0       1       1        0      27  2        11       1         \n",
       "2056 0       0       1        0      28  2        11       1         \n",
       "2216 0       1       1        0      28  2        11       0         "
      ]
     },
     "metadata": {},
     "output_type": "display_data"
    }
   ],
   "source": [
    "# выясним, какие наблюдения \n",
    "# относятся к узлу 11\n",
    "node11 <- data_party(model_party, 11)\n",
    "\n",
    "# выведем первые 5 наблюдений узла 11\n",
    "head(node11, 5)"
   ]
  },
  {
   "cell_type": "markdown",
   "metadata": {},
   "source": [
    "## 3.2.4 Прунинг дерева классификации CART"
   ]
  },
  {
   "cell_type": "code",
   "execution_count": 27,
   "metadata": {},
   "outputs": [
    {
     "name": "stdout",
     "output_type": "stream",
     "text": [
      "\n",
      "Classification tree:\n",
      "rpart(formula = response ~ ., data = train, method = \"class\", \n",
      "    control = rpart.control(cp = 0.001))\n",
      "\n",
      "Variables actually used in tree construction:\n",
      "[1] age      atm_user cre_card curr_acc cus_leng markpl   mob_bank\n",
      "\n",
      "Root node error: 9229/21313 = 0.43302\n",
      "\n",
      "n= 21313 \n",
      "\n",
      "          CP nsplit rel error  xerror      xstd\n",
      "1  0.3634197      0   1.00000 1.00000 0.0078380\n",
      "2  0.0716221      1   0.63658 0.63658 0.0070684\n",
      "3  0.0393325      3   0.49334 0.49334 0.0064835\n",
      "4  0.0167949      4   0.45400 0.45400 0.0062867\n",
      "5  0.0117022      5   0.43721 0.43721 0.0061971\n",
      "6  0.0018420      6   0.42551 0.42551 0.0061327\n",
      "7  0.0013002      7   0.42366 0.42670 0.0061394\n",
      "8  0.0012461      8   0.42236 0.42540 0.0061321\n",
      "9  0.0010835     10   0.41987 0.42551 0.0061327\n",
      "10 0.0010000     11   0.41879 0.42616 0.0061363\n"
     ]
    }
   ],
   "source": [
    "# выводим информацию о качестве модели\n",
    "printcp(model)"
   ]
  },
  {
   "cell_type": "code",
   "execution_count": 28,
   "metadata": {},
   "outputs": [
    {
     "data": {
      "image/png": "[encoded data removed]",
      "text/plain": [
       "plot without title"
      ]
     },
     "metadata": {},
     "output_type": "display_data"
    }
   ],
   "source": [
    "# строим график зависимости кросс-валидационной \n",
    "# ошибки от числа расщеплений и сложности модели\n",
    "plotcp(model)"
   ]
  },
  {
   "cell_type": "code",
   "execution_count": 29,
   "metadata": {
    "collapsed": true
   },
   "outputs": [],
   "source": [
    "# строим обрезанное дерево\n",
    "model2 <- prune(model, cp=0.0015)"
   ]
  },
  {
   "cell_type": "code",
   "execution_count": 30,
   "metadata": {},
   "outputs": [
    {
     "data": {
      "image/png": "[encoded data removed]",
      "text/plain": [
       "Plot with title \"\""
      ]
     },
     "metadata": {},
     "output_type": "display_data"
    }
   ],
   "source": [
    "# выводим диаграмму обрезанного дерева\n",
    "fancyRpartPlot(model2,\n",
    "               branch=0.5,\n",
    "               space=0.001, yspace=0.001,\n",
    "               split.cex=1.5,\n",
    "               nn.cex=1, nn.font=4,\n",
    "               split.prefix=\"is \", \n",
    "               split.suffix=\"?\")"
   ]
  },
  {
   "cell_type": "code",
   "execution_count": 31,
   "metadata": {
    "collapsed": true
   },
   "outputs": [],
   "source": [
    "# автоматически выбираем оптимальное\n",
    "# значение cp\n",
    "model3<- prune(model,cp=model$cptable\n",
    "               [which.min(model$cptable[,\"xerror\"]),\"CP\"])"
   ]
  },
  {
   "cell_type": "markdown",
   "metadata": {},
   "source": [
    "## 3.2.5 Оценка качества модели"
   ]
  },
  {
   "cell_type": "code",
   "execution_count": 32,
   "metadata": {},
   "outputs": [
    {
     "name": "stderr",
     "output_type": "stream",
     "text": [
      "Warning message:\n",
      "\"package 'pROC' was built under R version 3.4.3\"Type 'citation(\"pROC\")' for a citation.\n",
      "\n",
      "Attaching package: 'pROC'\n",
      "\n",
      "The following objects are masked from 'package:stats':\n",
      "\n",
      "    cov, smooth, var\n",
      "\n"
     ]
    },
    {
     "data": {
      "text/plain": [
       "\n",
       "Call:\n",
       "roc.default(response = valid$response, predictor = prob_valid[,     2], ci = TRUE)\n",
       "\n",
       "Data: prob_valid[, 2] in 5086 controls (valid$response 0) < 3860 cases (valid$response 1).\n",
       "Area under the curve: 0.8812\n",
       "95% CI: 0.8745-0.888 (DeLong)"
      ]
     },
     "metadata": {},
     "output_type": "display_data"
    }
   ],
   "source": [
    "# оцениваем дискриминирующую способность\n",
    "# обрезанного дерева на контрольной выборке\n",
    "library(pROC)\n",
    "prob_valid <- predict(model2, valid, type=\"prob\")\n",
    "roc_valid <- roc(valid$response, prob_valid[,2], ci=TRUE)\n",
    "\n",
    "# выводим доверительный интервал AUC\n",
    "roc_valid"
   ]
  },
  {
   "cell_type": "code",
   "execution_count": 33,
   "metadata": {},
   "outputs": [
    {
     "data": {
      "image/png": "[encoded data removed]",
      "text/plain": [
       "plot without title"
      ]
     },
     "metadata": {},
     "output_type": "display_data"
    }
   ],
   "source": [
    "# выводим ROC-кривую\n",
    "plot.roc(roc_valid)"
   ]
  },
  {
   "cell_type": "code",
   "execution_count": 34,
   "metadata": {},
   "outputs": [
    {
     "name": "stderr",
     "output_type": "stream",
     "text": [
      "Loading required package: gplots\n",
      "\n",
      "Attaching package: 'gplots'\n",
      "\n",
      "The following object is masked from 'package:stats':\n",
      "\n",
      "    lowess\n",
      "\n"
     ]
    }
   ],
   "source": [
    "# устанавливаем пакет ROCR\n",
    "# install.packages(\"ROCR\")\n",
    "# загружаем пакет ROCR\n",
    "library(ROCR)"
   ]
  },
  {
   "cell_type": "code",
   "execution_count": 35,
   "metadata": {},
   "outputs": [
    {
     "data": {
      "image/png": "[encoded data removed]",
      "text/plain": [
       "plot without title"
      ]
     },
     "metadata": {},
     "output_type": "display_data"
    }
   ],
   "source": [
    "# создаем объект prediction\n",
    "pred <- prediction(prob_valid[,2], valid$response)\n",
    "\n",
    "# строим ROC-кривую\n",
    "plot(performance(pred, \"tpr\", \"fpr\"))\n",
    "abline(0, 1, lty = 4)"
   ]
  },
  {
   "cell_type": "code",
   "execution_count": 36,
   "metadata": {},
   "outputs": [
    {
     "data": {
      "text/html": [
       "0.881210230664692"
      ],
      "text/latex": [
       "0.881210230664692"
      ],
      "text/markdown": [
       "0.881210230664692"
      ],
      "text/plain": [
       "[1] 0.8812102"
      ]
     },
     "metadata": {},
     "output_type": "display_data"
    }
   ],
   "source": [
    "# вычисляем AUC\n",
    "AUC = performance(pred,\"auc\")@y.values[[1]]\n",
    "AUC"
   ]
  },
  {
   "cell_type": "code",
   "execution_count": 37,
   "metadata": {},
   "outputs": [
    {
     "data": {
      "text/plain": [
       "   predvalue\n",
       "       0    1\n",
       "  0 4405  681\n",
       "  1  997 2863"
      ]
     },
     "metadata": {},
     "output_type": "display_data"
    }
   ],
   "source": [
    "# получаем спрогнозированные значения зависимой переменной\n",
    "# для контрольной выборки\n",
    "predvalue <- predict(model2, valid, type=\"class\")\n",
    "\n",
    "# строим матрицу ошибок\n",
    "table(valid$response, predvalue)"
   ]
  },
  {
   "cell_type": "markdown",
   "metadata": {},
   "source": [
    "# Лекция 3.3 Построение и интерпретация дерева регрессии CART"
   ]
  },
  {
   "cell_type": "markdown",
   "metadata": {},
   "source": [
    "## 3.3.1 Подготовка данных"
   ]
  },
  {
   "cell_type": "code",
   "execution_count": 38,
   "metadata": {
    "collapsed": true
   },
   "outputs": [],
   "source": [
    "# загружаем данные\n",
    "data <- read.csv2(\"C:/Trees/Creddebt.csv\")"
   ]
  },
  {
   "cell_type": "code",
   "execution_count": 39,
   "metadata": {},
   "outputs": [
    {
     "name": "stdout",
     "output_type": "stream",
     "text": [
      "'data.frame':\t5000 obs. of  7 variables:\n",
      " $ age     : int  41 30 40 41 57 45 36 39 43 34 ...\n",
      " $ ed      : Factor w/ 5 levels \"Высшее, ученая степень\",..: 5 3 3 3 3 3 3 3 3 5 ...\n",
      " $ employ  : int  17 13 15 15 7 0 1 20 12 7 ...\n",
      " $ address : int  12 8 14 14 37 13 3 9 11 12 ...\n",
      " $ income  : num  35.9 46.7 61.8 72 25.6 28.1 19.6 80.5 68.7 33.8 ...\n",
      " $ debtinc : num  11.9 17.9 10.6 29.7 15.9 ...\n",
      " $ creddebt: num  0.5 1.35 3.44 4.17 1.5 0.92 1.21 1.85 1.43 1.42 ...\n"
     ]
    }
   ],
   "source": [
    "# смотрим типы переменных\n",
    "str(data)"
   ]
  },
  {
   "cell_type": "code",
   "execution_count": 40,
   "metadata": {
    "collapsed": true
   },
   "outputs": [],
   "source": [
    "# порядковую переменную ed преобразовываем\n",
    "# в упорядоченный фактор\n",
    "data$ed <- ordered(data$ed, levels = c(\"Неполное среднее\", \n",
    "                                       \"Среднее\", \n",
    "                                       \"Среднее специальное\",   \n",
    "                                       \"Незаконченное высшее\", \n",
    "                                       \"Высшее, ученая степень\"))"
   ]
  },
  {
   "cell_type": "code",
   "execution_count": 41,
   "metadata": {},
   "outputs": [
    {
     "name": "stdout",
     "output_type": "stream",
     "text": [
      "'data.frame':\t5000 obs. of  7 variables:\n",
      " $ age     : int  41 30 40 41 57 45 36 39 43 34 ...\n",
      " $ ed      : Ord.factor w/ 5 levels \"Неполное среднее\"<..: 3 1 1 1 1 1 1 1 1 3 ...\n",
      " $ employ  : int  17 13 15 15 7 0 1 20 12 7 ...\n",
      " $ address : int  12 8 14 14 37 13 3 9 11 12 ...\n",
      " $ income  : num  35.9 46.7 61.8 72 25.6 28.1 19.6 80.5 68.7 33.8 ...\n",
      " $ debtinc : num  11.9 17.9 10.6 29.7 15.9 ...\n",
      " $ creddebt: num  0.5 1.35 3.44 4.17 1.5 0.92 1.21 1.85 1.43 1.42 ...\n"
     ]
    }
   ],
   "source": [
    "# смотрим типы переменных\n",
    "str(data)"
   ]
  },
  {
   "cell_type": "code",
   "execution_count": 42,
   "metadata": {
    "collapsed": true
   },
   "outputs": [],
   "source": [
    "# задаем стартовое значение генератора случайных чисел, чтобы\n",
    "# каждый раз получать одно и то же разбиение\n",
    "# на обучающую и контрольную выборки \n",
    "set.seed(100)"
   ]
  },
  {
   "cell_type": "code",
   "execution_count": 43,
   "metadata": {
    "collapsed": true
   },
   "outputs": [],
   "source": [
    "# разбиваем набор на обучающую и контрольную выборки\n",
    "ind <- sample(2,nrow(data),replace=TRUE,prob=c(0.7,0.3))\n",
    "tr <- data[ind==1,]\n",
    "val <- data[ind==2,]"
   ]
  },
  {
   "cell_type": "code",
   "execution_count": 44,
   "metadata": {},
   "outputs": [
    {
     "name": "stdout",
     "output_type": "stream",
     "text": [
      "     age       ed   employ  address   income  debtinc creddebt \n",
      "       0        0        0        0        0        0        0 \n"
     ]
    }
   ],
   "source": [
    "# проверяем наличие пропусков в обучающей выборке\n",
    "print(sapply(tr, function(x) sum(is.na(x))))"
   ]
  },
  {
   "cell_type": "code",
   "execution_count": 45,
   "metadata": {},
   "outputs": [
    {
     "name": "stdout",
     "output_type": "stream",
     "text": [
      "     age       ed   employ  address   income  debtinc creddebt \n",
      "       0        0        0        0        0        0        0 \n"
     ]
    }
   ],
   "source": [
    "# проверяем наличие пропусков в контрольной выборке\n",
    "print(sapply(val, function(x) sum(is.na(x))))"
   ]
  },
  {
   "cell_type": "markdown",
   "metadata": {},
   "source": [
    "## 3.3.2 Построение и интерпретация модели регрессии"
   ]
  },
  {
   "cell_type": "code",
   "execution_count": 46,
   "metadata": {
    "collapsed": true
   },
   "outputs": [],
   "source": [
    "set.seed(42)\n",
    "# строим модель регрессии, уменьшив пороговое \n",
    "# значение штрафа за сложность cp\n",
    "m<-rpart(creddebt~., method='anova', control=rpart.control(cp=0.001), \n",
    "         data=tr)"
   ]
  },
  {
   "cell_type": "code",
   "execution_count": 47,
   "metadata": {},
   "outputs": [
    {
     "name": "stdout",
     "output_type": "stream",
     "text": [
      "\n",
      "Regression tree:\n",
      "rpart(formula = creddebt ~ ., data = tr, method = \"anova\", control = rpart.control(cp = 0.001))\n",
      "\n",
      "Variables actually used in tree construction:\n",
      "[1] address debtinc employ  income \n",
      "\n",
      "Root node error: 38848/3510 = 11.068\n",
      "\n",
      "n= 3510 \n",
      "\n",
      "          CP nsplit rel error  xerror    xstd\n",
      "1  0.2059577      0   1.00000 1.00077 0.49690\n",
      "2  0.0848917      1   0.79404 1.05816 0.49800\n",
      "3  0.0484284      2   0.70915 0.89849 0.43597\n",
      "4  0.0381777      3   0.66072 0.84844 0.43448\n",
      "5  0.0223124      4   0.62254 0.81357 0.43444\n",
      "6  0.0080364      5   0.60023 0.71401 0.36431\n",
      "7  0.0079322      6   0.59220 0.70344 0.36429\n",
      "8  0.0063324      7   0.58426 0.70085 0.36429\n",
      "9  0.0058589      8   0.57793 0.69436 0.36428\n",
      "10 0.0054694      9   0.57207 0.69082 0.36425\n",
      "11 0.0050726     10   0.56660 0.69026 0.36425\n",
      "12 0.0048728     11   0.56153 0.68006 0.36347\n",
      "13 0.0046986     12   0.55666 0.67790 0.36346\n",
      "14 0.0037390     13   0.55196 0.67588 0.36339\n",
      "15 0.0032180     14   0.54822 0.66633 0.36335\n",
      "16 0.0029638     15   0.54500 0.66420 0.36335\n",
      "17 0.0025281     16   0.54204 0.66286 0.36335\n",
      "18 0.0022085     17   0.53951 0.65964 0.36335\n",
      "19 0.0018628     18   0.53730 0.65736 0.36334\n",
      "20 0.0014130     19   0.53544 0.65807 0.36334\n",
      "21 0.0012199     20   0.53403 0.65918 0.36334\n",
      "22 0.0011118     21   0.53281 0.66044 0.36334\n",
      "23 0.0010998     22   0.53169 0.66016 0.36334\n",
      "24 0.0010371     23   0.53059 0.65968 0.36334\n",
      "25 0.0010000     25   0.52852 0.65957 0.36334\n"
     ]
    }
   ],
   "source": [
    "# выводим информацию о качестве модели\n",
    "printcp(m)"
   ]
  },
  {
   "cell_type": "code",
   "execution_count": 48,
   "metadata": {},
   "outputs": [
    {
     "data": {
      "text/html": [
       "38847.6336258974"
      ],
      "text/latex": [
       "38847.6336258974"
      ],
      "text/markdown": [
       "38847.6336258974"
      ],
      "text/plain": [
       "[1] 38847.63"
      ]
     },
     "metadata": {},
     "output_type": "display_data"
    }
   ],
   "source": [
    "# вычисляем общую сумму квадратов отклонений\n",
    "TSS <- sum((tr$creddebt-(mean(tr$creddebt)))^2)\n",
    "TSS"
   ]
  },
  {
   "cell_type": "markdown",
   "metadata": {},
   "source": [
    "## 3.2.3 Прунинг и оценка качества дерева регрессии CART"
   ]
  },
  {
   "cell_type": "code",
   "execution_count": 49,
   "metadata": {},
   "outputs": [
    {
     "data": {
      "image/png": "[encoded data removed]",
      "text/plain": [
       "plot without title"
      ]
     },
     "metadata": {},
     "output_type": "display_data"
    }
   ],
   "source": [
    "# строим график зависимости кросс-валидационной \n",
    "# ошибки от числа расщеплений и сложности модели\n",
    "plotcp(m)"
   ]
  },
  {
   "cell_type": "code",
   "execution_count": 50,
   "metadata": {},
   "outputs": [
    {
     "data": {
      "text/html": [
       "0.00186283497037874"
      ],
      "text/latex": [
       "0.00186283497037874"
      ],
      "text/markdown": [
       "0.00186283497037874"
      ],
      "text/plain": [
       "[1] 0.001862835"
      ]
     },
     "metadata": {},
     "output_type": "display_data"
    }
   ],
   "source": [
    "# находим оптимальное значение cp\n",
    "cp=m$cptable[which.min(m$cptable[,\"xerror\"]),\"CP\"]\n",
    "cp"
   ]
  },
  {
   "cell_type": "code",
   "execution_count": 51,
   "metadata": {
    "collapsed": true
   },
   "outputs": [],
   "source": [
    "# выполняем прунинг\n",
    "m2 <- prune(m, cp=0.001862835)"
   ]
  },
  {
   "cell_type": "code",
   "execution_count": 52,
   "metadata": {},
   "outputs": [
    {
     "data": {
      "image/png": "[encoded data removed]",
      "text/plain": [
       "Plot with title \"\""
      ]
     },
     "metadata": {},
     "output_type": "display_data"
    }
   ],
   "source": [
    "# строим диаграмму обрезанного\n",
    "# дерева регрессии\n",
    "fancyRpartPlot(m2,\n",
    "               branch=0.5,\n",
    "               space=0.1, yspace=0.01,\n",
    "               split.cex=1,\n",
    "               nn.cex=0.5, nn.font=1,\n",
    "               split.prefix=\"is \", \n",
    "               split.suffix=\"?\")"
   ]
  },
  {
   "cell_type": "code",
   "execution_count": 53,
   "metadata": {
    "collapsed": true
   },
   "outputs": [],
   "source": [
    "# вычисляем спрогнозированные значения зависимой \n",
    "# переменной на контрольной выборке\n",
    "predvalue <- predict(m2, val)"
   ]
  },
  {
   "cell_type": "code",
   "execution_count": 54,
   "metadata": {},
   "outputs": [
    {
     "data": {
      "text/html": [
       "6367.1202422082"
      ],
      "text/latex": [
       "6367.1202422082"
      ],
      "text/markdown": [
       "6367.1202422082"
      ],
      "text/plain": [
       "[1] 6367.12"
      ]
     },
     "metadata": {},
     "output_type": "display_data"
    }
   ],
   "source": [
    "# вычисляем девианс или сумму квадратов остатков\n",
    "# на контрольной выборке, из фактического значения\n",
    "# зависимой переменной вычитаем спрогнозированное\n",
    "# значение, возводим остаток в квадрат и квадраты\n",
    "# остатков суммируем\n",
    "D <- sum((val$creddebt - predvalue)^2)\n",
    "D"
   ]
  },
  {
   "cell_type": "code",
   "execution_count": 55,
   "metadata": {},
   "outputs": [
    {
     "data": {
      "text/html": [
       "4.2732350618847"
      ],
      "text/latex": [
       "4.2732350618847"
      ],
      "text/markdown": [
       "4.2732350618847"
      ],
      "text/plain": [
       "[1] 4.273235"
      ]
     },
     "metadata": {},
     "output_type": "display_data"
    }
   ],
   "source": [
    "# вычисляем среднеквадратичную ошибку, сумму квадратов\n",
    "# делим на количество наблюдений\n",
    "MSE <- sum((val$creddebt - predvalue)^2)/nrow(val)\n",
    "MSE"
   ]
  },
  {
   "cell_type": "code",
   "execution_count": 56,
   "metadata": {},
   "outputs": [
    {
     "data": {
      "text/html": [
       "0.179388448550672"
      ],
      "text/latex": [
       "0.179388448550672"
      ],
      "text/markdown": [
       "0.179388448550672"
      ],
      "text/plain": [
       "[1] 0.1793884"
      ]
     },
     "metadata": {},
     "output_type": "display_data"
    }
   ],
   "source": [
    "# вычисляем коэффициент детерминации\n",
    "TSS <- sum((val$creddebt-(mean(val$creddebt)))^2)\n",
    "RSS <- sum((val$creddebt-predvalue)^2)\n",
    "R2 <- 1-(RSS/TSS)\n",
    "R2"
   ]
  },
  {
   "cell_type": "code",
   "execution_count": 57,
   "metadata": {
    "collapsed": true
   },
   "outputs": [],
   "source": [
    "# строим модель линейной регрессии\n",
    "linearMod <- lm(creddebt ~ ., data=tr)"
   ]
  },
  {
   "cell_type": "code",
   "execution_count": 58,
   "metadata": {
    "collapsed": true
   },
   "outputs": [],
   "source": [
    "# получаем спрогнозированные значения\n",
    "# зависимой переменной с помощью\n",
    "# модели линейной регрессии\n",
    "predvalue_regr <-predict(linearMod, val) "
   ]
  },
  {
   "cell_type": "code",
   "execution_count": 59,
   "metadata": {},
   "outputs": [
    {
     "data": {
      "text/html": [
       "4300.80335812918"
      ],
      "text/latex": [
       "4300.80335812918"
      ],
      "text/markdown": [
       "4300.80335812918"
      ],
      "text/plain": [
       "[1] 4300.803"
      ]
     },
     "metadata": {},
     "output_type": "display_data"
    }
   ],
   "source": [
    "# вычисляем девианс для модели линейной регрессии\n",
    "D_regr <- sum((val$creddebt - predvalue_regr)^2)\n",
    "D_regr"
   ]
  },
  {
   "cell_type": "code",
   "execution_count": 60,
   "metadata": {},
   "outputs": [
    {
     "data": {
      "text/html": [
       "2.88644520679811"
      ],
      "text/latex": [
       "2.88644520679811"
      ],
      "text/markdown": [
       "2.88644520679811"
      ],
      "text/plain": [
       "[1] 2.886445"
      ]
     },
     "metadata": {},
     "output_type": "display_data"
    }
   ],
   "source": [
    "# вычисляем среднеквадратичную ошибку \n",
    "# для модели линейной регрессии\n",
    "MSE_regr <- sum((val$creddebt - predvalue_regr)^2)/nrow(val)\n",
    "MSE_regr"
   ]
  },
  {
   "cell_type": "code",
   "execution_count": 61,
   "metadata": {},
   "outputs": [
    {
     "data": {
      "text/html": [
       "0.445700916279718"
      ],
      "text/latex": [
       "0.445700916279718"
      ],
      "text/markdown": [
       "0.445700916279718"
      ],
      "text/plain": [
       "[1] 0.4457009"
      ]
     },
     "metadata": {},
     "output_type": "display_data"
    }
   ],
   "source": [
    "# вычисляем коэффициент детерминации\n",
    "# для модели линейной регрессии\n",
    "TSS <- sum((val$creddebt-(mean(val$creddebt)))^2)\n",
    "RSS <- sum((val$creddebt-predvalue_regr)^2)\n",
    "R2_regr <- 1-(RSS/TSS)\n",
    "R2_regr"
   ]
  },
  {
   "cell_type": "code",
   "execution_count": 62,
   "metadata": {},
   "outputs": [
    {
     "name": "stderr",
     "output_type": "stream",
     "text": [
      "randomForest 4.6-12\n",
      "Type rfNews() to see new features/changes/bug fixes.\n",
      "\n",
      "Attaching package: 'randomForest'\n",
      "\n",
      "The following object is masked from 'package:rattle':\n",
      "\n",
      "    importance\n",
      "\n"
     ]
    },
    {
     "data": {
      "text/html": [
       "0.629692301771041"
      ],
      "text/latex": [
       "0.629692301771041"
      ],
      "text/markdown": [
       "0.629692301771041"
      ],
      "text/plain": [
       "[1] 0.6296923"
      ]
     },
     "metadata": {},
     "output_type": "display_data"
    }
   ],
   "source": [
    "# загружаем пакет randomForest для \n",
    "# построения случайного леса\n",
    "library(randomForest)\n",
    "\n",
    "# строим модель случайного леса\n",
    "set.seed(42)\n",
    "forestMod <- randomForest(creddebt ~ ., data=tr)\n",
    "\n",
    "# получаем спрогнозированные значения\n",
    "# зависимой переменной с помощью\n",
    "# модели случайного леса\n",
    "predvalue_forest <- predict(forestMod, val)\n",
    "\n",
    "# вычисляем коэффициент детерминации\n",
    "# для модели случайного леса\n",
    "TSS <- sum((val$creddebt-(mean(val$creddebt)))^2)\n",
    "RSS <- sum((val$creddebt-predvalue_forest)^2)\n",
    "R2 <- 1-(RSS/TSS)\n",
    "R2"
   ]
  }
 ],
 "metadata": {
  "kernelspec": {
   "display_name": "R",
   "language": "R",
   "name": "ir"
  },
  "language_info": {
   "codemirror_mode": "r",
   "file_extension": ".r",
   "mimetype": "text/x-r-source",
   "name": "R",
   "pygments_lexer": "r",
   "version": "3.4.2"
  }
 },
 "nbformat": 4,
 "nbformat_minor": 2
}
